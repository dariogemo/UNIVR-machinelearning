{
 "cells": [
  {
   "cell_type": "code",
   "execution_count": 15,
   "metadata": {},
   "outputs": [],
   "source": [
    "import pandas as pd\n",
    "pd.options.display.max_columns = None\n",
    "import matplotlib.pyplot as plt\n",
    "from sklearn.preprocessing import StandardScaler\n",
    "from sklearn.compose import ColumnTransformer\n",
    "from sklearn.model_selection import train_test_split\n",
    "from sklearn.metrics import accuracy_score, confusion_matrix, ConfusionMatrixDisplay\n",
    "from sklearn.naive_bayes import GaussianNB\n",
    "from sklearn.pipeline import Pipeline\n",
    "import umap\n",
    "import warnings\n",
    "warnings.filterwarnings('ignore')"
   ]
  },
  {
   "cell_type": "code",
   "execution_count": 11,
   "metadata": {},
   "outputs": [],
   "source": [
    "df = pd.read_csv('faults.csv')\n",
    "df.columns = map(str.lower, df.columns)\n",
    "target_cols = ['pastry', 'z_scratch', 'k_scatch', 'stains', 'dirtiness', 'bumps', 'other_faults'] \n",
    "feat_col = ['x_minimum', 'x_maximum', 'y_minimum', 'y_maximum', 'pixels_areas', 'x_perimeter', 'y_perimeter', 'sum_of_luminosity', 'minimum_of_luminosity', 'maximum_of_luminosity', 'length_of_conveyer', 'typeofsteel_a300', 'typeofsteel_a400', 'steel_plate_thickness', 'edges_index', 'empty_index', 'square_index', 'outside_x_index', 'edges_x_index', 'edges_y_index', 'outside_global_index', 'logofareas', 'log_x_index', 'log_y_index', 'orientation_index', 'luminosity_index', 'sigmoidofareas'] \n",
    "enc_dict = {'pastry' : 0, \n",
    "            'z_scratch' : 1,\n",
    "            'k_scatch' : 2, \n",
    "            'stains' : 3,\n",
    "            'dirtiness' : 4, \n",
    "            'bumps' : 5, \n",
    "            'other_faults' : 6}\n",
    "\n",
    "df['anomaly'] = pd.from_dummies(df[target_cols]).replace(enc_dict)"
   ]
  },
  {
   "cell_type": "markdown",
   "metadata": {},
   "source": [
    "Without preprocessing"
   ]
  },
  {
   "cell_type": "code",
   "execution_count": 2,
   "metadata": {},
   "outputs": [],
   "source": [
    "gnb = GaussianNB()"
   ]
  },
  {
   "cell_type": "code",
   "execution_count": 6,
   "metadata": {},
   "outputs": [],
   "source": [
    "X_full = df[feat_col]\n",
    "y_full = df['anomaly']\n",
    "X_full_train, X_full_test, y_full_train, y_full_test = train_test_split(X_full, y_full, test_size = 0.4, random_state = 2)"
   ]
  },
  {
   "cell_type": "code",
   "execution_count": 7,
   "metadata": {},
   "outputs": [],
   "source": [
    "gnb.fit(X_full_train, y_full_train)\n",
    "y_pred = gnb.predict(X_full_test)"
   ]
  },
  {
   "cell_type": "code",
   "execution_count": 10,
   "metadata": {},
   "outputs": [
    {
     "name": "stdout",
     "output_type": "stream",
     "text": [
      "Accuracy score for naive bayes classifier: 0.44%\n"
     ]
    }
   ],
   "source": [
    "gnb_accuracy = round(accuracy_score(y_full_test, y_pred), 2)\n",
    "print(f'Accuracy score for naive bayes classifier: {gnb_accuracy}%')"
   ]
  },
  {
   "cell_type": "markdown",
   "metadata": {},
   "source": [
    "Dimensionality reduction"
   ]
  },
  {
   "cell_type": "code",
   "execution_count": 17,
   "metadata": {},
   "outputs": [],
   "source": [
    "sc = StandardScaler()\n",
    "ump = umap.UMAP(n_neighbors = 5, n_components = 10, random_state = 2)\n",
    "\n",
    "#df_nonbin = df.drop(['typeofsteel_a300', 'typeofsteel_a400', 'outside_global_index', 'anomaly'], axis = 1)\n"
   ]
  },
  {
   "cell_type": "code",
   "execution_count": 16,
   "metadata": {},
   "outputs": [
    {
     "data": {
      "text/plain": [
       "Index(['x_minimum', 'x_maximum', 'y_minimum', 'y_maximum', 'pixels_areas',\n",
       "       'x_perimeter', 'y_perimeter', 'sum_of_luminosity',\n",
       "       'minimum_of_luminosity', 'maximum_of_luminosity', 'length_of_conveyer',\n",
       "       'typeofsteel_a300', 'typeofsteel_a400', 'steel_plate_thickness',\n",
       "       'edges_index', 'empty_index', 'square_index', 'outside_x_index',\n",
       "       'edges_x_index', 'edges_y_index', 'outside_global_index', 'logofareas',\n",
       "       'log_x_index', 'log_y_index', 'orientation_index', 'luminosity_index',\n",
       "       'sigmoidofareas', 'pastry', 'z_scratch', 'k_scatch', 'stains',\n",
       "       'dirtiness', 'bumps', 'other_faults', 'anomaly'],\n",
       "      dtype='object')"
      ]
     },
     "execution_count": 16,
     "metadata": {},
     "output_type": "execute_result"
    }
   ],
   "source": [
    "df.columns"
   ]
  },
  {
   "cell_type": "code",
   "execution_count": 18,
   "metadata": {},
   "outputs": [
    {
     "ename": "NameError",
     "evalue": "name 'X' is not defined",
     "output_type": "error",
     "traceback": [
      "\u001b[0;31m---------------------------------------------------------------------------\u001b[0m",
      "\u001b[0;31mNameError\u001b[0m                                 Traceback (most recent call last)",
      "Cell \u001b[0;32mIn[18], line 28\u001b[0m\n\u001b[1;32m     22\u001b[0m pipeline \u001b[38;5;241m=\u001b[39m Pipeline(steps\u001b[38;5;241m=\u001b[39m[\n\u001b[1;32m     23\u001b[0m     (\u001b[38;5;124m'\u001b[39m\u001b[38;5;124mpreprocessor\u001b[39m\u001b[38;5;124m'\u001b[39m, preprocessor),\n\u001b[1;32m     24\u001b[0m     (\u001b[38;5;124m'\u001b[39m\u001b[38;5;124mumap\u001b[39m\u001b[38;5;124m'\u001b[39m, ump)  \u001b[38;5;66;03m# Replace with UMAP parameters as needed\u001b[39;00m\n\u001b[1;32m     25\u001b[0m ])\n\u001b[1;32m     27\u001b[0m \u001b[38;5;66;03m# Fit and transform the data\u001b[39;00m\n\u001b[0;32m---> 28\u001b[0m X_transformed \u001b[38;5;241m=\u001b[39m pipeline\u001b[38;5;241m.\u001b[39mfit_transform(\u001b[43mX\u001b[49m)\n",
      "\u001b[0;31mNameError\u001b[0m: name 'X' is not defined"
     ]
    }
   ],
   "source": [
    "\n",
    "\n",
    "# Example feature indices or names\n",
    "continuous_features = ['x_minimum', 'x_maximum', 'y_minimum', 'y_maximum', 'pixels_areas',\n",
    "       'x_perimeter', 'y_perimeter', 'sum_of_luminosity',\n",
    "       'minimum_of_luminosity', 'maximum_of_luminosity', 'length_of_conveyer',\n",
    "       'steel_plate_thickness',\n",
    "       'edges_index', 'empty_index', 'square_index', 'outside_x_index',\n",
    "       'edges_x_index', 'edges_y_index', 'logofareas',\n",
    "       'log_x_index', 'log_y_index', 'orientation_index', 'luminosity_index',\n",
    "       'sigmoidofareas', 'pastry', 'z_scratch', 'k_scatch', 'stains',\n",
    "       'dirtiness', 'bumps', 'other_faults', 'anomaly'] # Replace with your continuous feature names or indices\n",
    "binary_features = ['typeofsteel_a300', 'typeofsteel_a400', 'outside_global_index']      # Replace with your binary feature names or indices\n",
    "\n",
    "# Preprocessing pipelines\n",
    "preprocessor = ColumnTransformer(\n",
    "    transformers=[\n",
    "        ('num', sc, continuous_features),\n",
    "        ('bin', 'passthrough', binary_features)\n",
    "    ]\n",
    ")\n",
    "\n",
    "# Full pipeline\n",
    "pipeline = Pipeline(steps=[\n",
    "    ('preprocessor', preprocessor),\n",
    "    ('umap', ump)  # Replace with UMAP parameters as needed\n",
    "])\n",
    "\n",
    "# Fit and transform the data\n",
    "X_transformed = pipeline.fit_transform(X)\n"
   ]
  }
 ],
 "metadata": {
  "kernelspec": {
   "display_name": "venv",
   "language": "python",
   "name": "python3"
  },
  "language_info": {
   "codemirror_mode": {
    "name": "ipython",
    "version": 3
   },
   "file_extension": ".py",
   "mimetype": "text/x-python",
   "name": "python",
   "nbconvert_exporter": "python",
   "pygments_lexer": "ipython3",
   "version": "3.11.11"
  }
 },
 "nbformat": 4,
 "nbformat_minor": 2
}
